{
 "cells": [
  {
   "cell_type": "markdown",
   "metadata": {},
   "source": [
    "# Final Project: Part I\n",
    "***\n",
    "\n",
    "## Problem Statement:\n",
    "Close to 800,000 people die of suicide every year. It is the second leading cause of death among 15-29 year olds. However, suicides occur across all age groups. It is one of the priority conditions in the WHO (World Health Organization) Mental Health Gap Action Programme (mhGAP) launched in 2008. The programme provides evidence-based technical guidance to scale up funds and care in countries for mental, neurological and substance use disorders.\n",
    "\n",
    "One of the main indicators that dictates the allocation of funds for countries for suicide prevention is the projected number of suicides based on historical trends. To this end, the main goal of this exercise is to predict suicide deaths in the following year by country.\n",
    "\n",
    "***\n",
    "## Model Targets and Features:\n",
    "\n",
    "Target Variable: # of suicides\n",
    "\n",
    "Feature set: Country, Age group, Sex, Population, GDP/capita, Generation, Suicides/100K population\n",
    "\n",
    "***\n",
    "## Goals and Success Metrics:\n",
    "The goal is to be able to predict with reasonable accuracy the number of suicides by country in the next year at the grain of age, sex, population, GDP/capita and generation. This data will then be used by WHO to budget funds by country for the upcoming year.\n",
    "\n",
    "For the purposes of this exercise, the success metric is limited to being able to prodive the aforementioned a reasonable prediction on # of suicides by country, and acertain whether there are meaningful changes in trends.\n",
    "\n",
    "***\n",
    "## Risks and Limitations:\n",
    "- Over 79% of suicides occur in low/medium income countries. Unfortunately, consumable data on suicides is only available for 100 countries. Not all low-income countries report this data. Hence, the adjustment of funds allocated by WHO globally cannot be entirely dependent on this exercise.\n",
    "- While not unique to mental health related data, it must be called out that the accuracy of such self reported data is only as good as their collection techniques. We understand this limitation and proceed."
   ]
  },
  {
   "cell_type": "markdown",
   "metadata": {},
   "source": [
    "***\n",
    "# Getting the datasets ready"
   ]
  },
  {
   "cell_type": "markdown",
   "metadata": {},
   "source": [
    "#### Source of dataset: https://www.kaggle.com/russellyates88/suicide-rates-overview-1985-to-2016"
   ]
  },
  {
   "cell_type": "markdown",
   "metadata": {},
   "source": [
    "### Import the dataset"
   ]
  },
  {
   "cell_type": "code",
   "execution_count": 230,
   "metadata": {},
   "outputs": [],
   "source": [
    "# Import libraries\n",
    "import matplotlib.pyplot as plt\n",
    "import numpy as np\n",
    "import pandas as pd\n",
    "import seaborn as sns"
   ]
  },
  {
   "cell_type": "code",
   "execution_count": 231,
   "metadata": {},
   "outputs": [],
   "source": [
    "%matplotlib inline"
   ]
  },
  {
   "cell_type": "code",
   "execution_count": 232,
   "metadata": {},
   "outputs": [],
   "source": [
    "# Import the data from csv\n",
    "filepath = 'assets/suicide_master.csv'\n",
    "suicide = pd.read_csv(filepath)"
   ]
  },
  {
   "cell_type": "code",
   "execution_count": 233,
   "metadata": {},
   "outputs": [
    {
     "data": {
      "text/html": [
       "<div>\n",
       "<style scoped>\n",
       "    .dataframe tbody tr th:only-of-type {\n",
       "        vertical-align: middle;\n",
       "    }\n",
       "\n",
       "    .dataframe tbody tr th {\n",
       "        vertical-align: top;\n",
       "    }\n",
       "\n",
       "    .dataframe thead th {\n",
       "        text-align: right;\n",
       "    }\n",
       "</style>\n",
       "<table border=\"1\" class=\"dataframe\">\n",
       "  <thead>\n",
       "    <tr style=\"text-align: right;\">\n",
       "      <th></th>\n",
       "      <th>country</th>\n",
       "      <th>year</th>\n",
       "      <th>sex</th>\n",
       "      <th>age</th>\n",
       "      <th>suicides_no</th>\n",
       "      <th>population</th>\n",
       "      <th>suicides/100k pop</th>\n",
       "      <th>country-year</th>\n",
       "      <th>HDI for year</th>\n",
       "      <th>gdp_for_year ($)</th>\n",
       "      <th>gdp_per_capita ($)</th>\n",
       "      <th>generation</th>\n",
       "    </tr>\n",
       "  </thead>\n",
       "  <tbody>\n",
       "    <tr>\n",
       "      <th>0</th>\n",
       "      <td>Albania</td>\n",
       "      <td>1987</td>\n",
       "      <td>male</td>\n",
       "      <td>15-24 years</td>\n",
       "      <td>21</td>\n",
       "      <td>312900</td>\n",
       "      <td>6.71</td>\n",
       "      <td>Albania1987</td>\n",
       "      <td>NaN</td>\n",
       "      <td>2,156,624,900</td>\n",
       "      <td>796</td>\n",
       "      <td>Generation X</td>\n",
       "    </tr>\n",
       "    <tr>\n",
       "      <th>1</th>\n",
       "      <td>Albania</td>\n",
       "      <td>1987</td>\n",
       "      <td>male</td>\n",
       "      <td>35-54 years</td>\n",
       "      <td>16</td>\n",
       "      <td>308000</td>\n",
       "      <td>5.19</td>\n",
       "      <td>Albania1987</td>\n",
       "      <td>NaN</td>\n",
       "      <td>2,156,624,900</td>\n",
       "      <td>796</td>\n",
       "      <td>Silent</td>\n",
       "    </tr>\n",
       "    <tr>\n",
       "      <th>2</th>\n",
       "      <td>Albania</td>\n",
       "      <td>1987</td>\n",
       "      <td>female</td>\n",
       "      <td>15-24 years</td>\n",
       "      <td>14</td>\n",
       "      <td>289700</td>\n",
       "      <td>4.83</td>\n",
       "      <td>Albania1987</td>\n",
       "      <td>NaN</td>\n",
       "      <td>2,156,624,900</td>\n",
       "      <td>796</td>\n",
       "      <td>Generation X</td>\n",
       "    </tr>\n",
       "    <tr>\n",
       "      <th>3</th>\n",
       "      <td>Albania</td>\n",
       "      <td>1987</td>\n",
       "      <td>male</td>\n",
       "      <td>75+ years</td>\n",
       "      <td>1</td>\n",
       "      <td>21800</td>\n",
       "      <td>4.59</td>\n",
       "      <td>Albania1987</td>\n",
       "      <td>NaN</td>\n",
       "      <td>2,156,624,900</td>\n",
       "      <td>796</td>\n",
       "      <td>G.I. Generation</td>\n",
       "    </tr>\n",
       "    <tr>\n",
       "      <th>4</th>\n",
       "      <td>Albania</td>\n",
       "      <td>1987</td>\n",
       "      <td>male</td>\n",
       "      <td>25-34 years</td>\n",
       "      <td>9</td>\n",
       "      <td>274300</td>\n",
       "      <td>3.28</td>\n",
       "      <td>Albania1987</td>\n",
       "      <td>NaN</td>\n",
       "      <td>2,156,624,900</td>\n",
       "      <td>796</td>\n",
       "      <td>Boomers</td>\n",
       "    </tr>\n",
       "  </tbody>\n",
       "</table>\n",
       "</div>"
      ],
      "text/plain": [
       "   country  year     sex          age  suicides_no  population  \\\n",
       "0  Albania  1987    male  15-24 years           21      312900   \n",
       "1  Albania  1987    male  35-54 years           16      308000   \n",
       "2  Albania  1987  female  15-24 years           14      289700   \n",
       "3  Albania  1987    male    75+ years            1       21800   \n",
       "4  Albania  1987    male  25-34 years            9      274300   \n",
       "\n",
       "   suicides/100k pop country-year  HDI for year  gdp_for_year ($)   \\\n",
       "0               6.71  Albania1987           NaN      2,156,624,900   \n",
       "1               5.19  Albania1987           NaN      2,156,624,900   \n",
       "2               4.83  Albania1987           NaN      2,156,624,900   \n",
       "3               4.59  Albania1987           NaN      2,156,624,900   \n",
       "4               3.28  Albania1987           NaN      2,156,624,900   \n",
       "\n",
       "   gdp_per_capita ($)       generation  \n",
       "0                 796     Generation X  \n",
       "1                 796           Silent  \n",
       "2                 796     Generation X  \n",
       "3                 796  G.I. Generation  \n",
       "4                 796          Boomers  "
      ]
     },
     "execution_count": 233,
     "metadata": {},
     "output_type": "execute_result"
    }
   ],
   "source": [
    "suicide.head()"
   ]
  },
  {
   "cell_type": "code",
   "execution_count": 234,
   "metadata": {},
   "outputs": [
    {
     "data": {
      "text/plain": [
       "(27820, 12)"
      ]
     },
     "execution_count": 234,
     "metadata": {},
     "output_type": "execute_result"
    }
   ],
   "source": [
    "# We have 27K rows and 12 columns\n",
    "suicide.shape"
   ]
  },
  {
   "cell_type": "markdown",
   "metadata": {},
   "source": [
    "### Massage the data"
   ]
  },
  {
   "cell_type": "code",
   "execution_count": 235,
   "metadata": {},
   "outputs": [
    {
     "name": "stdout",
     "output_type": "stream",
     "text": [
      "<class 'pandas.core.frame.DataFrame'>\n",
      "RangeIndex: 27820 entries, 0 to 27819\n",
      "Data columns (total 12 columns):\n",
      "country               27820 non-null object\n",
      "year                  27820 non-null int64\n",
      "sex                   27820 non-null object\n",
      "age                   27820 non-null object\n",
      "suicides_no           27820 non-null int64\n",
      "population            27820 non-null int64\n",
      "suicides/100k pop     27820 non-null float64\n",
      "country-year          27820 non-null object\n",
      "HDI for year          8364 non-null float64\n",
      " gdp_for_year ($)     27820 non-null object\n",
      "gdp_per_capita ($)    27820 non-null int64\n",
      "generation            27820 non-null object\n",
      "dtypes: float64(2), int64(4), object(6)\n",
      "memory usage: 2.5+ MB\n"
     ]
    }
   ],
   "source": [
    "# Check columns\n",
    "suicide.info()"
   ]
  },
  {
   "cell_type": "code",
   "execution_count": 236,
   "metadata": {},
   "outputs": [],
   "source": [
    "# Clean up column names\n",
    "suicide = suicide.rename(columns={'suicides/100k pop': 'suicides_per_100k_pop',\n",
    "                                  'gdp_per_capita ($)': 'gdp_per_capita_usd',\n",
    "                                  ' gdp_for_year ($) ': 'gdp_for_year_usd', 'HDI for year': 'HDI_for_year',\n",
    "                                  'country-year': 'country_year'})"
   ]
  },
  {
   "cell_type": "code",
   "execution_count": 237,
   "metadata": {},
   "outputs": [
    {
     "name": "stdout",
     "output_type": "stream",
     "text": [
      "<class 'pandas.core.frame.DataFrame'>\n",
      "RangeIndex: 27820 entries, 0 to 27819\n",
      "Data columns (total 12 columns):\n",
      "country                  27820 non-null object\n",
      "year                     27820 non-null int64\n",
      "sex                      27820 non-null object\n",
      "age                      27820 non-null object\n",
      "suicides_no              27820 non-null int64\n",
      "population               27820 non-null int64\n",
      "suicides_per_100k_pop    27820 non-null float64\n",
      "country_year             27820 non-null object\n",
      "HDI_for_year             8364 non-null float64\n",
      "gdp_for_year_usd         27820 non-null object\n",
      "gdp_per_capita_usd       27820 non-null int64\n",
      "generation               27820 non-null object\n",
      "dtypes: float64(2), int64(4), object(6)\n",
      "memory usage: 2.5+ MB\n"
     ]
    }
   ],
   "source": [
    "# Cleaned up column names\n",
    "suicide.info()"
   ]
  },
  {
   "cell_type": "code",
   "execution_count": 238,
   "metadata": {},
   "outputs": [
    {
     "data": {
      "image/png": "[encoded data removed]",
      "text/plain": [
       "<Figure size 432x288 with 1 Axes>"
      ]
     },
     "metadata": {
      "needs_background": "light"
     },
     "output_type": "display_data"
    }
   ],
   "source": [
    "# Check some trends by year\n",
    "suicide.groupby('year')['suicides_no'].sum().plot();"
   ]
  },
  {
   "cell_type": "code",
   "execution_count": 239,
   "metadata": {},
   "outputs": [
    {
     "data": {
      "image/png": "[encoded data removed]",
      "text/plain": [
       "<Figure size 432x288 with 1 Axes>"
      ]
     },
     "metadata": {
      "needs_background": "light"
     },
     "output_type": "display_data"
    }
   ],
   "source": [
    "# Check some trends by year\n",
    "suicide.groupby('year')['population'].sum().plot();"
   ]
  },
  {
   "cell_type": "code",
   "execution_count": 240,
   "metadata": {},
   "outputs": [
    {
     "data": {
      "image/png": "[encoded data removed]",
      "text/plain": [
       "<Figure size 432x288 with 1 Axes>"
      ]
     },
     "metadata": {
      "needs_background": "light"
     },
     "output_type": "display_data"
    }
   ],
   "source": [
    "# Last year's data (2016) seems like a partial year\n",
    "# Create suicide_new where year 2016 is dropped\n",
    "suicide_new = suicide.loc[suicide['year'] != 2016,:]\n",
    "suicide_new.groupby('year')['population'].sum().plot();"
   ]
  },
  {
   "cell_type": "markdown",
   "metadata": {},
   "source": [
    "### Profile the data"
   ]
  },
  {
   "cell_type": "code",
   "execution_count": 241,
   "metadata": {},
   "outputs": [
    {
     "data": {
      "text/html": [
       "<div>\n",
       "<style scoped>\n",
       "    .dataframe tbody tr th:only-of-type {\n",
       "        vertical-align: middle;\n",
       "    }\n",
       "\n",
       "    .dataframe tbody tr th {\n",
       "        vertical-align: top;\n",
       "    }\n",
       "\n",
       "    .dataframe thead th {\n",
       "        text-align: right;\n",
       "    }\n",
       "</style>\n",
       "<table border=\"1\" class=\"dataframe\">\n",
       "  <thead>\n",
       "    <tr style=\"text-align: right;\">\n",
       "      <th></th>\n",
       "      <th>year</th>\n",
       "      <th>suicides_no</th>\n",
       "      <th>population</th>\n",
       "      <th>suicides_per_100k_pop</th>\n",
       "      <th>HDI_for_year</th>\n",
       "      <th>gdp_per_capita_usd</th>\n",
       "    </tr>\n",
       "  </thead>\n",
       "  <tbody>\n",
       "    <tr>\n",
       "      <th>count</th>\n",
       "      <td>27660.000000</td>\n",
       "      <td>27660.000000</td>\n",
       "      <td>2.766000e+04</td>\n",
       "      <td>27660.000000</td>\n",
       "      <td>8364.000000</td>\n",
       "      <td>27660.000000</td>\n",
       "    </tr>\n",
       "    <tr>\n",
       "      <th>mean</th>\n",
       "      <td>2001.173102</td>\n",
       "      <td>243.413485</td>\n",
       "      <td>1.850689e+06</td>\n",
       "      <td>12.812597</td>\n",
       "      <td>0.776601</td>\n",
       "      <td>16815.568330</td>\n",
       "    </tr>\n",
       "    <tr>\n",
       "      <th>std</th>\n",
       "      <td>8.418754</td>\n",
       "      <td>904.490185</td>\n",
       "      <td>3.920658e+06</td>\n",
       "      <td>18.972063</td>\n",
       "      <td>0.093367</td>\n",
       "      <td>18861.585497</td>\n",
       "    </tr>\n",
       "    <tr>\n",
       "      <th>min</th>\n",
       "      <td>1985.000000</td>\n",
       "      <td>0.000000</td>\n",
       "      <td>2.780000e+02</td>\n",
       "      <td>0.000000</td>\n",
       "      <td>0.483000</td>\n",
       "      <td>251.000000</td>\n",
       "    </tr>\n",
       "    <tr>\n",
       "      <th>25%</th>\n",
       "      <td>1994.000000</td>\n",
       "      <td>3.000000</td>\n",
       "      <td>9.753525e+04</td>\n",
       "      <td>0.910000</td>\n",
       "      <td>0.713000</td>\n",
       "      <td>3436.000000</td>\n",
       "    </tr>\n",
       "    <tr>\n",
       "      <th>50%</th>\n",
       "      <td>2002.000000</td>\n",
       "      <td>25.000000</td>\n",
       "      <td>4.307250e+05</td>\n",
       "      <td>5.980000</td>\n",
       "      <td>0.779000</td>\n",
       "      <td>9283.000000</td>\n",
       "    </tr>\n",
       "    <tr>\n",
       "      <th>75%</th>\n",
       "      <td>2008.000000</td>\n",
       "      <td>132.000000</td>\n",
       "      <td>1.491041e+06</td>\n",
       "      <td>16.602500</td>\n",
       "      <td>0.855000</td>\n",
       "      <td>24796.000000</td>\n",
       "    </tr>\n",
       "    <tr>\n",
       "      <th>max</th>\n",
       "      <td>2015.000000</td>\n",
       "      <td>22338.000000</td>\n",
       "      <td>4.380521e+07</td>\n",
       "      <td>224.970000</td>\n",
       "      <td>0.944000</td>\n",
       "      <td>126352.000000</td>\n",
       "    </tr>\n",
       "  </tbody>\n",
       "</table>\n",
       "</div>"
      ],
      "text/plain": [
       "               year   suicides_no    population  suicides_per_100k_pop  \\\n",
       "count  27660.000000  27660.000000  2.766000e+04           27660.000000   \n",
       "mean    2001.173102    243.413485  1.850689e+06              12.812597   \n",
       "std        8.418754    904.490185  3.920658e+06              18.972063   \n",
       "min     1985.000000      0.000000  2.780000e+02               0.000000   \n",
       "25%     1994.000000      3.000000  9.753525e+04               0.910000   \n",
       "50%     2002.000000     25.000000  4.307250e+05               5.980000   \n",
       "75%     2008.000000    132.000000  1.491041e+06              16.602500   \n",
       "max     2015.000000  22338.000000  4.380521e+07             224.970000   \n",
       "\n",
       "       HDI_for_year  gdp_per_capita_usd  \n",
       "count   8364.000000        27660.000000  \n",
       "mean       0.776601        16815.568330  \n",
       "std        0.093367        18861.585497  \n",
       "min        0.483000          251.000000  \n",
       "25%        0.713000         3436.000000  \n",
       "50%        0.779000         9283.000000  \n",
       "75%        0.855000        24796.000000  \n",
       "max        0.944000       126352.000000  "
      ]
     },
     "execution_count": 241,
     "metadata": {},
     "output_type": "execute_result"
    }
   ],
   "source": [
    "suicide_new.describe()\n",
    "# HDI - Human Development Index, which is a measure of the quality of life seems to be sparsly populated - This needs to\n",
    "# be inspected further"
   ]
  },
  {
   "cell_type": "code",
   "execution_count": 242,
   "metadata": {},
   "outputs": [
    {
     "data": {
      "image/png": "[encoded data removed]",
      "text/plain": [
       "<Figure size 432x288 with 1 Axes>"
      ]
     },
     "metadata": {
      "needs_background": "light"
     },
     "output_type": "display_data"
    }
   ],
   "source": [
    "suicide_new.groupby('year')['HDI_for_year'].mean().plot();\n",
    "# HDI seems to be recorded only since 2010. Hence, this shouldn't be considered in our model"
   ]
  },
  {
   "cell_type": "markdown",
   "metadata": {},
   "source": [
    "### Evaluate feature correlation with the target (suicides_no)"
   ]
  },
  {
   "cell_type": "code",
   "execution_count": 243,
   "metadata": {},
   "outputs": [
    {
     "data": {
      "image/png": "[encoded data removed]",
      "text/plain": [
       "<Figure size 576x576 with 2 Axes>"
      ]
     },
     "metadata": {
      "needs_background": "light"
     },
     "output_type": "display_data"
    }
   ],
   "source": [
    "# Visualize correlation matrix in Seaborn using a heat map.\n",
    "fig, ax = plt.subplots(figsize=(8, 8))\n",
    "sns.heatmap(suicide_new.corr(),\n",
    "            vmin=-1,\n",
    "            vmax=1,\n",
    "            cmap=sns.diverging_palette(220, 10, n=21),\n",
    "            annot=True,\n",
    "            ax=ax,\n",
    "           );\n",
    "\n",
    "# Based on the correlation matrix below, population, suicides_per_100k_pop, gdp_per_capita_usd seem to be good candidates\n",
    "# as features"
   ]
  },
  {
   "cell_type": "code",
   "execution_count": 244,
   "metadata": {},
   "outputs": [],
   "source": [
    "# Adding dummy variables for country, sex and age\n",
    "suicide_new2 = pd.get_dummies(suicide_new, columns=['country','sex','age'])"
   ]
  },
  {
   "cell_type": "code",
   "execution_count": 245,
   "metadata": {},
   "outputs": [
    {
     "name": "stdout",
     "output_type": "stream",
     "text": [
      "year\n",
      "suicides_no\n",
      "population\n",
      "suicides_per_100k_pop\n",
      "country_year\n",
      "HDI_for_year\n",
      "gdp_for_year_usd\n",
      "gdp_per_capita_usd\n",
      "generation\n",
      "country_Albania\n",
      "country_Antigua and Barbuda\n",
      "country_Argentina\n",
      "country_Armenia\n",
      "country_Aruba\n",
      "country_Australia\n",
      "country_Austria\n",
      "country_Azerbaijan\n",
      "country_Bahamas\n",
      "country_Bahrain\n",
      "country_Barbados\n",
      "country_Belarus\n",
      "country_Belgium\n",
      "country_Belize\n",
      "country_Bosnia and Herzegovina\n",
      "country_Brazil\n",
      "country_Bulgaria\n",
      "country_Cabo Verde\n",
      "country_Canada\n",
      "country_Chile\n",
      "country_Colombia\n",
      "country_Costa Rica\n",
      "country_Croatia\n",
      "country_Cuba\n",
      "country_Cyprus\n",
      "country_Czech Republic\n",
      "country_Denmark\n",
      "country_Dominica\n",
      "country_Ecuador\n",
      "country_El Salvador\n",
      "country_Estonia\n",
      "country_Fiji\n",
      "country_Finland\n",
      "country_France\n",
      "country_Georgia\n",
      "country_Germany\n",
      "country_Greece\n",
      "country_Grenada\n",
      "country_Guatemala\n",
      "country_Guyana\n",
      "country_Hungary\n",
      "country_Iceland\n",
      "country_Ireland\n",
      "country_Israel\n",
      "country_Italy\n",
      "country_Jamaica\n",
      "country_Japan\n",
      "country_Kazakhstan\n",
      "country_Kiribati\n",
      "country_Kuwait\n",
      "country_Kyrgyzstan\n",
      "country_Latvia\n",
      "country_Lithuania\n",
      "country_Luxembourg\n",
      "country_Macau\n",
      "country_Maldives\n",
      "country_Malta\n",
      "country_Mauritius\n",
      "country_Mexico\n",
      "country_Montenegro\n",
      "country_Netherlands\n",
      "country_New Zealand\n",
      "country_Nicaragua\n",
      "country_Norway\n",
      "country_Oman\n",
      "country_Panama\n",
      "country_Paraguay\n",
      "country_Philippines\n",
      "country_Poland\n",
      "country_Portugal\n",
      "country_Puerto Rico\n",
      "country_Qatar\n",
      "country_Republic of Korea\n",
      "country_Romania\n",
      "country_Russian Federation\n",
      "country_Saint Kitts and Nevis\n",
      "country_Saint Lucia\n",
      "country_Saint Vincent and Grenadines\n",
      "country_San Marino\n",
      "country_Serbia\n",
      "country_Seychelles\n",
      "country_Singapore\n",
      "country_Slovakia\n",
      "country_Slovenia\n",
      "country_South Africa\n",
      "country_Spain\n",
      "country_Sri Lanka\n",
      "country_Suriname\n",
      "country_Sweden\n",
      "country_Switzerland\n",
      "country_Thailand\n",
      "country_Trinidad and Tobago\n",
      "country_Turkey\n",
      "country_Turkmenistan\n",
      "country_Ukraine\n",
      "country_United Arab Emirates\n",
      "country_United Kingdom\n",
      "country_United States\n",
      "country_Uruguay\n",
      "country_Uzbekistan\n",
      "sex_female\n",
      "sex_male\n",
      "age_15-24 years\n",
      "age_25-34 years\n",
      "age_35-54 years\n",
      "age_5-14 years\n",
      "age_55-74 years\n",
      "age_75+ years\n"
     ]
    }
   ],
   "source": [
    "# Check Column List\n",
    "for col in suicide_new2.columns:\n",
    "    print(col)"
   ]
  },
  {
   "cell_type": "code",
   "execution_count": 213,
   "metadata": {},
   "outputs": [],
   "source": [
    "# Create a dataframe with correlation matrix since the number of columns is large\n",
    "suicide_new2_corrs = suicide_new2.corr()"
   ]
  },
  {
   "cell_type": "code",
   "execution_count": 214,
   "metadata": {},
   "outputs": [
    {
     "data": {
      "text/plain": [
       "count    112.000000\n",
       "mean       0.019239\n",
       "std        0.131875\n",
       "min       -0.114749\n",
       "25%       -0.025825\n",
       "50%       -0.017615\n",
       "75%       -0.002320\n",
       "max        1.000000\n",
       "Name: suicides_no, dtype: float64"
      ]
     },
     "execution_count": 214,
     "metadata": {},
     "output_type": "execute_result"
    }
   ],
   "source": [
    "suicide_new2_corrs['suicides_no'].describe()"
   ]
  },
  {
   "cell_type": "code",
   "execution_count": 226,
   "metadata": {},
   "outputs": [
    {
     "data": {
      "image/png": "[encoded data removed]",
      "text/plain": [
       "<Figure size 432x288 with 1 Axes>"
      ]
     },
     "metadata": {
      "needs_background": "light"
     },
     "output_type": "display_data"
    }
   ],
   "source": [
    "# Chart the distribution of the correlations\n",
    "ax = suicide_new2_corrs.loc[:, 'suicides_no'].plot(kind='hist', bins=100)"
   ]
  },
  {
   "cell_type": "code",
   "execution_count": 227,
   "metadata": {},
   "outputs": [],
   "source": [
    "suicide_new2_corrs.to_csv('assets/feature_correlations.csv', sep='\\t', encoding='utf-8')\n",
    "\n",
    "# Performed in Excel to test for different threshholds: Filtering for only those features that have correlation \n",
    "# between 0.2 and -0.2 yields the follwing additional feature set:\n",
    "# population\n",
    "# suicides_per_100k_pop\n",
    "# country_Japan\n",
    "# country_Russian Federation\n",
    "# country_United States\n",
    "\n",
    "# Final feature set:\n",
    "# population\n",
    "# suicides_per_100k_pop\n",
    "# country_Japan\n",
    "# country_Russian Federation\n",
    "# country_United States\n",
    "# suicides_per_100k_pop\n",
    "# gdp_per_capita_usd"
   ]
  },
  {
   "cell_type": "code",
   "execution_count": 263,
   "metadata": {},
   "outputs": [],
   "source": [
    "# Clean up the feature and target list\n",
    "\n",
    "feature_cols = ['population','suicides_per_100k_pop','country_Japan','country_Russian Federation',\n",
    "                                 'country_United States','suicides_per_100k_pop','gdp_per_capita_usd']\n",
    "target_col = ['suicides_no']"
   ]
  },
  {
   "cell_type": "code",
   "execution_count": 264,
   "metadata": {},
   "outputs": [],
   "source": [
    "# Create feature and target dataframes\n",
    "\n",
    "X = suicide_new2.loc[:, feature_cols]\n",
    "y = suicide_new2.loc[:, target_col]"
   ]
  },
  {
   "cell_type": "code",
   "execution_count": 268,
   "metadata": {},
   "outputs": [
    {
     "name": "stdout",
     "output_type": "stream",
     "text": [
      "   population  suicides_per_100k_pop  country_Japan  \\\n",
      "0      312900                   6.71              0   \n",
      "1      308000                   5.19              0   \n",
      "2      289700                   4.83              0   \n",
      "3       21800                   4.59              0   \n",
      "4      274300                   3.28              0   \n",
      "\n",
      "   country_Russian Federation  country_United States  suicides_per_100k_pop  \\\n",
      "0                           0                      0                   6.71   \n",
      "1                           0                      0                   5.19   \n",
      "2                           0                      0                   4.83   \n",
      "3                           0                      0                   4.59   \n",
      "4                           0                      0                   3.28   \n",
      "\n",
      "   gdp_per_capita_usd  \n",
      "0                 796  \n",
      "1                 796  \n",
      "2                 796  \n",
      "3                 796  \n",
      "4                 796  \n",
      "   suicides_no\n",
      "0           21\n",
      "1           16\n",
      "2           14\n",
      "3            1\n",
      "4            9\n"
     ]
    }
   ],
   "source": [
    "print(X.head())\n",
    "print(y.head())"
   ]
  }
 ],
 "metadata": {
  "kernelspec": {
   "display_name": "Python 3",
   "language": "python",
   "name": "python3"
  },
  "language_info": {
   "codemirror_mode": {
    "name": "ipython",
    "version": 3
   },
   "file_extension": ".py",
   "mimetype": "text/x-python",
   "name": "python",
   "nbconvert_exporter": "python",
   "pygments_lexer": "ipython3",
   "version": "3.8.3"
  }
 },
 "nbformat": 4,
 "nbformat_minor": 4
}
